{
 "cells": [
  {
   "cell_type": "code",
   "execution_count": 1,
   "id": "ea2e1c69-c6ff-4420-8505-e7e9693adf05",
   "metadata": {},
   "outputs": [
    {
     "data": {
      "text/plain": [
       "'D:\\\\ProgramFiles\\\\Spark\\\\spark-3.2.3-bin-hadoop3.2'"
      ]
     },
     "execution_count": 1,
     "metadata": {},
     "output_type": "execute_result"
    }
   ],
   "source": [
    "import findspark\n",
    "\n",
    "findspark.init(spark_home=r'D:\\ProgramFiles\\Spark\\spark-3.2.3-bin-hadoop3.2')\n",
    "findspark.find()"
   ]
  },
  {
   "cell_type": "code",
   "execution_count": 2,
   "id": "807dd1f6-554f-4fad-8a16-ddd4354d3eb2",
   "metadata": {},
   "outputs": [
    {
     "data": {
      "text/plain": [
       "'D:\\\\ProgramFiles\\\\Spark\\\\spark-3.2.3-bin-hadoop3.2\\\\python\\\\pyspark\\\\__init__.py'"
      ]
     },
     "execution_count": 2,
     "metadata": {},
     "output_type": "execute_result"
    }
   ],
   "source": [
    "import pyspark\n",
    "pyspark.__file__"
   ]
  },
  {
   "cell_type": "code",
   "execution_count": 3,
   "id": "818c3206-b466-4695-a04c-3a39d145d67f",
   "metadata": {},
   "outputs": [],
   "source": [
    "from pyspark.sql import SparkSession\n",
    "\n",
    "spark = SparkSession.builder \\\n",
    "    .master(\"local[*]\") \\\n",
    "    .appName('test') \\\n",
    "    .getOrCreate()"
   ]
  },
  {
   "cell_type": "code",
   "execution_count": 4,
   "id": "0965eff7-e99e-420f-a5ce-4eba08b6a881",
   "metadata": {},
   "outputs": [],
   "source": [
    "df_fhvhv = spark.read.option('header','true').parquet('fhvhv_tripdata_2021-06.parquet')"
   ]
  },
  {
   "cell_type": "code",
   "execution_count": 5,
   "id": "a604896f-4382-4954-9a26-53d8853b9a61",
   "metadata": {},
   "outputs": [
    {
     "name": "stdout",
     "output_type": "stream",
     "text": [
      "+--------------------+-------------------+-------------------+------------+------------+-------+----------------------+\n",
      "|dispatching_base_num|    pickup_datetime|   dropoff_datetime|PULocationID|DOLocationID|SR_Flag|Affiliated_base_number|\n",
      "+--------------------+-------------------+-------------------+------------+------------+-------+----------------------+\n",
      "|              B02682|2021-06-03 21:14:32|2021-06-03 21:25:50|         231|         114|      N|                B02682|\n",
      "|              B02880|2021-06-23 17:40:44|2021-06-23 18:04:19|          41|         163|      N|                B02880|\n",
      "|              B02510|2021-06-06 02:07:03|2021-06-06 02:24:30|          75|         250|      N|                  null|\n",
      "|              B02865|2021-06-06 04:48:19|2021-06-06 05:15:14|         158|          22|      N|                B02865|\n",
      "|              B02872|2021-06-16 15:31:51|2021-06-16 16:18:09|          90|          56|      N|                B02872|\n",
      "|              B02883|2021-06-21 20:39:20|2021-06-21 20:50:45|          34|          45|      N|                B02883|\n",
      "|              B02510|2021-06-17 08:22:30|2021-06-17 09:18:31|          48|         169|      N|                  null|\n",
      "|              B02510|2021-06-23 22:02:56|2021-06-23 22:26:34|           4|         256|      N|                  null|\n",
      "|              B02866|2021-06-19 22:18:25|2021-06-19 22:31:06|         246|          79|      N|                B02866|\n",
      "|              B02866|2021-06-30 11:19:51|2021-06-30 12:25:05|         113|         265|      N|                B02866|\n",
      "|              B02510|2021-06-22 12:15:13|2021-06-22 12:26:24|         205|         130|      N|                  null|\n",
      "|              B02878|2021-06-28 09:22:50|2021-06-28 09:33:56|         169|         247|      N|                B02878|\n",
      "|              B02617|2021-06-11 13:36:20|2021-06-11 14:02:03|         262|         144|      N|                B02617|\n",
      "|              B02510|2021-06-01 23:23:57|2021-06-02 00:00:09|         117|          56|      N|                  null|\n",
      "|              B02883|2021-06-04 18:29:42|2021-06-04 19:09:11|         138|          48|      N|                B02883|\n",
      "|              B02865|2021-06-09 08:05:27|2021-06-09 08:27:02|         246|         231|      N|                B02865|\n",
      "|              B02510|2021-06-15 12:02:23|2021-06-15 12:12:33|          24|         116|      N|                  null|\n",
      "|              B02682|2021-06-05 01:00:43|2021-06-05 01:19:45|         145|          50|      N|                B02682|\n",
      "|              B02878|2021-06-28 17:09:54|2021-06-28 17:44:17|         242|         200|      N|                B02878|\n",
      "|              B02866|2021-06-20 17:57:44|2021-06-20 18:12:43|         225|          97|      N|                B02866|\n",
      "+--------------------+-------------------+-------------------+------------+------------+-------+----------------------+\n",
      "only showing top 20 rows\n",
      "\n"
     ]
    }
   ],
   "source": [
    "df_fhvhv.show()"
   ]
  },
  {
   "cell_type": "code",
   "execution_count": 6,
   "id": "026e20d3-5735-4986-b403-2f09f0f3e03e",
   "metadata": {},
   "outputs": [],
   "source": [
    "from pyspark.sql import types"
   ]
  },
  {
   "cell_type": "code",
   "execution_count": 7,
   "id": "6c487c60-7e0e-4ba8-b0f9-0f4e1bfe55c5",
   "metadata": {},
   "outputs": [],
   "source": [
    "df_fhvhv = df_fhvhv.withColumn('pickup_datetime',df_fhvhv.pickup_datetime.cast(types.TimestampType()))"
   ]
  },
  {
   "cell_type": "code",
   "execution_count": 8,
   "id": "1af6289c-d9f8-47b6-a96b-d46e2c78eaed",
   "metadata": {},
   "outputs": [
    {
     "name": "stderr",
     "output_type": "stream",
     "text": [
      "D:\\ProgramFiles\\Spark\\spark-3.2.3-bin-hadoop3.2\\python\\pyspark\\sql\\dataframe.py:138: FutureWarning: Deprecated in 2.0, use createOrReplaceTempView instead.\n",
      "  warnings.warn(\n"
     ]
    }
   ],
   "source": [
    "df_fhvhv.registerTempTable('fhvhv_table')"
   ]
  },
  {
   "cell_type": "code",
   "execution_count": 9,
   "id": "3c7522df-8e30-4c04-95cf-97096e56bc00",
   "metadata": {},
   "outputs": [
    {
     "name": "stdout",
     "output_type": "stream",
     "text": [
      "+----------------------+\n",
      "|count(pickup_datetime)|\n",
      "+----------------------+\n",
      "|                452470|\n",
      "+----------------------+\n",
      "\n"
     ]
    }
   ],
   "source": [
    "spark.sql(\n",
    "\"\"\"\n",
    "SELECT\n",
    "    COUNT(pickup_datetime)\n",
    "FROM\n",
    "    fhvhv_table\n",
    "WHERE\n",
    "    DATE(pickup_datetime) = '2021-06-15';\n",
    "\"\"\"\n",
    ").show()"
   ]
  },
  {
   "cell_type": "code",
   "execution_count": null,
   "id": "32b6187f-9288-4757-8e52-0d8d25f0ea10",
   "metadata": {},
   "outputs": [],
   "source": []
  }
 ],
 "metadata": {
  "kernelspec": {
   "display_name": "Python 3 (ipykernel)",
   "language": "python",
   "name": "python3"
  },
  "language_info": {
   "codemirror_mode": {
    "name": "ipython",
    "version": 3
   },
   "file_extension": ".py",
   "mimetype": "text/x-python",
   "name": "python",
   "nbconvert_exporter": "python",
   "pygments_lexer": "ipython3",
   "version": "3.10.9"
  }
 },
 "nbformat": 4,
 "nbformat_minor": 5
}
