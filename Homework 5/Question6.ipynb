{
 "cells": [
  {
   "cell_type": "code",
   "execution_count": 1,
   "id": "803d3f12-4203-473b-a974-323a0850f5bc",
   "metadata": {},
   "outputs": [
    {
     "data": {
      "text/plain": [
       "'D:\\\\ProgramFiles\\\\Spark\\\\spark-3.2.3-bin-hadoop3.2'"
      ]
     },
     "execution_count": 1,
     "metadata": {},
     "output_type": "execute_result"
    }
   ],
   "source": [
    "import findspark\n",
    "\n",
    "findspark.init(spark_home=r'D:\\ProgramFiles\\Spark\\spark-3.2.3-bin-hadoop3.2')\n",
    "findspark.find()"
   ]
  },
  {
   "cell_type": "code",
   "execution_count": 2,
   "id": "11e44677-e5b5-48c3-9c62-034aef127e2b",
   "metadata": {},
   "outputs": [
    {
     "data": {
      "text/plain": [
       "'D:\\\\ProgramFiles\\\\Spark\\\\spark-3.2.3-bin-hadoop3.2\\\\python\\\\pyspark\\\\__init__.py'"
      ]
     },
     "execution_count": 2,
     "metadata": {},
     "output_type": "execute_result"
    }
   ],
   "source": [
    "import pyspark\n",
    "pyspark.__file__"
   ]
  },
  {
   "cell_type": "code",
   "execution_count": 3,
   "id": "87dfe8df-e18e-4f07-90d2-409750e10dd6",
   "metadata": {},
   "outputs": [],
   "source": [
    "from pyspark.sql import SparkSession\n",
    "\n",
    "spark = SparkSession.builder \\\n",
    "    .master(\"local[*]\") \\\n",
    "    .appName('test') \\\n",
    "    .getOrCreate()"
   ]
  },
  {
   "cell_type": "code",
   "execution_count": 4,
   "id": "e393ee60-02fb-4859-aecd-018c6d0755da",
   "metadata": {},
   "outputs": [],
   "source": [
    "df_fhvhv = spark.read.option('header','true').parquet('fhvhv_tripdata_2021-06.parquet')"
   ]
  },
  {
   "cell_type": "code",
   "execution_count": 5,
   "id": "a19c4e8e-fdd2-448b-8251-0d75fb266da2",
   "metadata": {},
   "outputs": [],
   "source": [
    "df_zone = spark.read.option('header','true').csv('taxi_zone_lookup.csv')"
   ]
  },
  {
   "cell_type": "code",
   "execution_count": 6,
   "id": "2be7efe3-1eb0-47d7-ad5c-5953a0034c0f",
   "metadata": {},
   "outputs": [
    {
     "name": "stdout",
     "output_type": "stream",
     "text": [
      "+--------------------+-------------------+-------------------+------------+------------+-------+----------------------+\n",
      "|dispatching_base_num|    pickup_datetime|   dropoff_datetime|PULocationID|DOLocationID|SR_Flag|Affiliated_base_number|\n",
      "+--------------------+-------------------+-------------------+------------+------------+-------+----------------------+\n",
      "|              B02682|2021-06-03 21:14:32|2021-06-03 21:25:50|         231|         114|      N|                B02682|\n",
      "|              B02880|2021-06-23 17:40:44|2021-06-23 18:04:19|          41|         163|      N|                B02880|\n",
      "|              B02510|2021-06-06 02:07:03|2021-06-06 02:24:30|          75|         250|      N|                  null|\n",
      "|              B02865|2021-06-06 04:48:19|2021-06-06 05:15:14|         158|          22|      N|                B02865|\n",
      "|              B02872|2021-06-16 15:31:51|2021-06-16 16:18:09|          90|          56|      N|                B02872|\n",
      "|              B02883|2021-06-21 20:39:20|2021-06-21 20:50:45|          34|          45|      N|                B02883|\n",
      "|              B02510|2021-06-17 08:22:30|2021-06-17 09:18:31|          48|         169|      N|                  null|\n",
      "|              B02510|2021-06-23 22:02:56|2021-06-23 22:26:34|           4|         256|      N|                  null|\n",
      "|              B02866|2021-06-19 22:18:25|2021-06-19 22:31:06|         246|          79|      N|                B02866|\n",
      "|              B02866|2021-06-30 11:19:51|2021-06-30 12:25:05|         113|         265|      N|                B02866|\n",
      "|              B02510|2021-06-22 12:15:13|2021-06-22 12:26:24|         205|         130|      N|                  null|\n",
      "|              B02878|2021-06-28 09:22:50|2021-06-28 09:33:56|         169|         247|      N|                B02878|\n",
      "|              B02617|2021-06-11 13:36:20|2021-06-11 14:02:03|         262|         144|      N|                B02617|\n",
      "|              B02510|2021-06-01 23:23:57|2021-06-02 00:00:09|         117|          56|      N|                  null|\n",
      "|              B02883|2021-06-04 18:29:42|2021-06-04 19:09:11|         138|          48|      N|                B02883|\n",
      "|              B02865|2021-06-09 08:05:27|2021-06-09 08:27:02|         246|         231|      N|                B02865|\n",
      "|              B02510|2021-06-15 12:02:23|2021-06-15 12:12:33|          24|         116|      N|                  null|\n",
      "|              B02682|2021-06-05 01:00:43|2021-06-05 01:19:45|         145|          50|      N|                B02682|\n",
      "|              B02878|2021-06-28 17:09:54|2021-06-28 17:44:17|         242|         200|      N|                B02878|\n",
      "|              B02866|2021-06-20 17:57:44|2021-06-20 18:12:43|         225|          97|      N|                B02866|\n",
      "+--------------------+-------------------+-------------------+------------+------------+-------+----------------------+\n",
      "only showing top 20 rows\n",
      "\n"
     ]
    }
   ],
   "source": [
    "df_fhvhv.show()"
   ]
  },
  {
   "cell_type": "code",
   "execution_count": 7,
   "id": "a81641e8-bb8d-427a-83ff-5c53e0fcd7cd",
   "metadata": {},
   "outputs": [
    {
     "name": "stdout",
     "output_type": "stream",
     "text": [
      "+----------+-------------+--------------------+------------+\n",
      "|LocationID|      Borough|                Zone|service_zone|\n",
      "+----------+-------------+--------------------+------------+\n",
      "|         1|          EWR|      Newark Airport|         EWR|\n",
      "|         2|       Queens|         Jamaica Bay|   Boro Zone|\n",
      "|         3|        Bronx|Allerton/Pelham G...|   Boro Zone|\n",
      "|         4|    Manhattan|       Alphabet City| Yellow Zone|\n",
      "|         5|Staten Island|       Arden Heights|   Boro Zone|\n",
      "|         6|Staten Island|Arrochar/Fort Wad...|   Boro Zone|\n",
      "|         7|       Queens|             Astoria|   Boro Zone|\n",
      "|         8|       Queens|        Astoria Park|   Boro Zone|\n",
      "|         9|       Queens|          Auburndale|   Boro Zone|\n",
      "|        10|       Queens|        Baisley Park|   Boro Zone|\n",
      "|        11|     Brooklyn|          Bath Beach|   Boro Zone|\n",
      "|        12|    Manhattan|        Battery Park| Yellow Zone|\n",
      "|        13|    Manhattan|   Battery Park City| Yellow Zone|\n",
      "|        14|     Brooklyn|           Bay Ridge|   Boro Zone|\n",
      "|        15|       Queens|Bay Terrace/Fort ...|   Boro Zone|\n",
      "|        16|       Queens|             Bayside|   Boro Zone|\n",
      "|        17|     Brooklyn|             Bedford|   Boro Zone|\n",
      "|        18|        Bronx|        Bedford Park|   Boro Zone|\n",
      "|        19|       Queens|           Bellerose|   Boro Zone|\n",
      "|        20|        Bronx|             Belmont|   Boro Zone|\n",
      "+----------+-------------+--------------------+------------+\n",
      "only showing top 20 rows\n",
      "\n"
     ]
    }
   ],
   "source": [
    "df_zone.show()"
   ]
  },
  {
   "cell_type": "code",
   "execution_count": 8,
   "id": "92a2189b-90f6-4925-b5df-09c8952f4e18",
   "metadata": {},
   "outputs": [
    {
     "name": "stderr",
     "output_type": "stream",
     "text": [
      "D:\\ProgramFiles\\Spark\\spark-3.2.3-bin-hadoop3.2\\python\\pyspark\\sql\\dataframe.py:138: FutureWarning: Deprecated in 2.0, use createOrReplaceTempView instead.\n",
      "  warnings.warn(\n"
     ]
    }
   ],
   "source": [
    "df_fhvhv.registerTempTable('fhvhv_table')\n",
    "df_zone.registerTempTable('zone_table')"
   ]
  },
  {
   "cell_type": "code",
   "execution_count": 26,
   "id": "16484a4b-f7d0-48bd-bc53-0cd1b081694a",
   "metadata": {},
   "outputs": [
    {
     "name": "stdout",
     "output_type": "stream",
     "text": [
      "+--------------------+----------+\n",
      "|                Zone|Zone_Count|\n",
      "+--------------------+----------+\n",
      "| Crown Heights North|    231279|\n",
      "|        East Village|    221244|\n",
      "|         JFK Airport|    188867|\n",
      "|      Bushwick South|    187929|\n",
      "|       East New York|    186780|\n",
      "|TriBeCa/Civic Center|    164344|\n",
      "|   LaGuardia Airport|    161596|\n",
      "|            Union Sq|    158937|\n",
      "|        West Village|    154698|\n",
      "|             Astoria|    152493|\n",
      "|     Lower East Side|    151020|\n",
      "|        East Chelsea|    147673|\n",
      "|Central Harlem North|    146402|\n",
      "|Williamsburg (Nor...|    143683|\n",
      "|          Park Slope|    143594|\n",
      "|  Stuyvesant Heights|    141427|\n",
      "|        Clinton East|    139611|\n",
      "|West Chelsea/Huds...|    139431|\n",
      "|             Bedford|    138428|\n",
      "|         Murray Hill|    137879|\n",
      "+--------------------+----------+\n",
      "only showing top 20 rows\n",
      "\n"
     ]
    }
   ],
   "source": [
    "spark.sql(\n",
    "\"\"\"\n",
    "SELECT\n",
    "    zpu.Zone,\n",
    "    COUNT(1) AS Zone_Count\n",
    "FROM\n",
    "    fhvhv_table AS fhv,\n",
    "    zone_table AS zpu,\n",
    "    zone_table AS zdo\n",
    "WHERE\n",
    "    fhv.PULocationID =  zpu.LocationID AND\n",
    "    fhv.DOLocationID = zdo.LocationID\n",
    "GROUP BY \n",
    "    zpu.Zone\n",
    "ORDER BY Zone_Count DESC\n",
    ";\n",
    "\"\"\"\n",
    ").show()"
   ]
  },
  {
   "cell_type": "code",
   "execution_count": null,
   "id": "ba08804a-adb1-45cf-9964-da2236f9e4f4",
   "metadata": {},
   "outputs": [],
   "source": []
  }
 ],
 "metadata": {
  "kernelspec": {
   "display_name": "Python 3 (ipykernel)",
   "language": "python",
   "name": "python3"
  },
  "language_info": {
   "codemirror_mode": {
    "name": "ipython",
    "version": 3
   },
   "file_extension": ".py",
   "mimetype": "text/x-python",
   "name": "python",
   "nbconvert_exporter": "python",
   "pygments_lexer": "ipython3",
   "version": "3.10.9"
  }
 },
 "nbformat": 4,
 "nbformat_minor": 5
}
