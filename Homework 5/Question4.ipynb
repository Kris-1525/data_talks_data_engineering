{
 "cells": [
  {
   "cell_type": "code",
   "execution_count": 1,
   "id": "ce2d9d75-4f36-4817-ba42-f25a6494b7ec",
   "metadata": {},
   "outputs": [
    {
     "data": {
      "text/plain": [
       "'D:\\\\ProgramFiles\\\\Spark\\\\spark-3.2.3-bin-hadoop3.2'"
      ]
     },
     "execution_count": 1,
     "metadata": {},
     "output_type": "execute_result"
    }
   ],
   "source": [
    "import findspark\n",
    "\n",
    "findspark.init(spark_home=r'D:\\ProgramFiles\\Spark\\spark-3.2.3-bin-hadoop3.2')\n",
    "findspark.find()"
   ]
  },
  {
   "cell_type": "code",
   "execution_count": 2,
   "id": "35727786-2b84-4194-9562-07671f5180bc",
   "metadata": {},
   "outputs": [
    {
     "data": {
      "text/plain": [
       "'D:\\\\ProgramFiles\\\\Spark\\\\spark-3.2.3-bin-hadoop3.2\\\\python\\\\pyspark\\\\__init__.py'"
      ]
     },
     "execution_count": 2,
     "metadata": {},
     "output_type": "execute_result"
    }
   ],
   "source": [
    "import pyspark\n",
    "pyspark.__file__"
   ]
  },
  {
   "cell_type": "code",
   "execution_count": 3,
   "id": "b7879c9d-bbdc-4140-96bc-482234046f75",
   "metadata": {},
   "outputs": [],
   "source": [
    "from pyspark.sql import SparkSession\n",
    "\n",
    "spark = SparkSession.builder \\\n",
    "    .master(\"local[*]\") \\\n",
    "    .appName('test') \\\n",
    "    .getOrCreate()"
   ]
  },
  {
   "cell_type": "code",
   "execution_count": 4,
   "id": "968f14a4-0875-4b45-9c37-12fa28b62396",
   "metadata": {},
   "outputs": [],
   "source": [
    "df_fhvhv = spark.read.option('header','true').parquet('fhvhv_tripdata_2021-06.parquet')"
   ]
  },
  {
   "cell_type": "code",
   "execution_count": 5,
   "id": "d0e3e59f-417b-42b8-b997-a12e29981bcd",
   "metadata": {},
   "outputs": [
    {
     "name": "stdout",
     "output_type": "stream",
     "text": [
      "+--------------------+-------------------+-------------------+------------+------------+-------+----------------------+\n",
      "|dispatching_base_num|    pickup_datetime|   dropoff_datetime|PULocationID|DOLocationID|SR_Flag|Affiliated_base_number|\n",
      "+--------------------+-------------------+-------------------+------------+------------+-------+----------------------+\n",
      "|              B02682|2021-06-03 21:14:32|2021-06-03 21:25:50|         231|         114|      N|                B02682|\n",
      "|              B02880|2021-06-23 17:40:44|2021-06-23 18:04:19|          41|         163|      N|                B02880|\n",
      "|              B02510|2021-06-06 02:07:03|2021-06-06 02:24:30|          75|         250|      N|                  null|\n",
      "|              B02865|2021-06-06 04:48:19|2021-06-06 05:15:14|         158|          22|      N|                B02865|\n",
      "|              B02872|2021-06-16 15:31:51|2021-06-16 16:18:09|          90|          56|      N|                B02872|\n",
      "|              B02883|2021-06-21 20:39:20|2021-06-21 20:50:45|          34|          45|      N|                B02883|\n",
      "|              B02510|2021-06-17 08:22:30|2021-06-17 09:18:31|          48|         169|      N|                  null|\n",
      "|              B02510|2021-06-23 22:02:56|2021-06-23 22:26:34|           4|         256|      N|                  null|\n",
      "|              B02866|2021-06-19 22:18:25|2021-06-19 22:31:06|         246|          79|      N|                B02866|\n",
      "|              B02866|2021-06-30 11:19:51|2021-06-30 12:25:05|         113|         265|      N|                B02866|\n",
      "|              B02510|2021-06-22 12:15:13|2021-06-22 12:26:24|         205|         130|      N|                  null|\n",
      "|              B02878|2021-06-28 09:22:50|2021-06-28 09:33:56|         169|         247|      N|                B02878|\n",
      "|              B02617|2021-06-11 13:36:20|2021-06-11 14:02:03|         262|         144|      N|                B02617|\n",
      "|              B02510|2021-06-01 23:23:57|2021-06-02 00:00:09|         117|          56|      N|                  null|\n",
      "|              B02883|2021-06-04 18:29:42|2021-06-04 19:09:11|         138|          48|      N|                B02883|\n",
      "|              B02865|2021-06-09 08:05:27|2021-06-09 08:27:02|         246|         231|      N|                B02865|\n",
      "|              B02510|2021-06-15 12:02:23|2021-06-15 12:12:33|          24|         116|      N|                  null|\n",
      "|              B02682|2021-06-05 01:00:43|2021-06-05 01:19:45|         145|          50|      N|                B02682|\n",
      "|              B02878|2021-06-28 17:09:54|2021-06-28 17:44:17|         242|         200|      N|                B02878|\n",
      "|              B02866|2021-06-20 17:57:44|2021-06-20 18:12:43|         225|          97|      N|                B02866|\n",
      "+--------------------+-------------------+-------------------+------------+------------+-------+----------------------+\n",
      "only showing top 20 rows\n",
      "\n"
     ]
    }
   ],
   "source": [
    "df_fhvhv.show()"
   ]
  },
  {
   "cell_type": "code",
   "execution_count": 6,
   "id": "946f98c7-9e94-4c20-8c02-b3e17e18615f",
   "metadata": {},
   "outputs": [],
   "source": [
    "from pyspark.sql import types\n",
    "from pyspark.sql import functions"
   ]
  },
  {
   "cell_type": "code",
   "execution_count": 7,
   "id": "7c0a3ea3-a06f-471a-8a41-6599fdb26f58",
   "metadata": {},
   "outputs": [],
   "source": [
    "df_fhvhv = df_fhvhv.withColumn('pickup_datetime',df_fhvhv.pickup_datetime.cast(types.TimestampType()))\n",
    "df_fhvhv = df_fhvhv.withColumn('dropoff_datetime',df_fhvhv.dropoff_datetime.cast(types.TimestampType()))"
   ]
  },
  {
   "cell_type": "code",
   "execution_count": 8,
   "id": "51592667-21d8-4415-bcc0-a25e16b4a1fe",
   "metadata": {},
   "outputs": [],
   "source": [
    "df_fhvhv = df_fhvhv.withColumn('pickup_sec',functions.unix_timestamp(df_fhvhv.pickup_datetime))\n",
    "df_fhvhv = df_fhvhv.withColumn('dropoff_sec',functions.unix_timestamp(df_fhvhv.dropoff_datetime))"
   ]
  },
  {
   "cell_type": "code",
   "execution_count": 9,
   "id": "6522d7dc-c3c5-4447-9c99-89d7f63d0c27",
   "metadata": {},
   "outputs": [],
   "source": [
    "df_fhvhv = df_fhvhv.withColumn('diff_hour',(df_fhvhv.dropoff_sec-df_fhvhv.pickup_sec)/3600)"
   ]
  },
  {
   "cell_type": "code",
   "execution_count": 10,
   "id": "a3d4ef89-6ae8-419a-9590-8d9d4dac1684",
   "metadata": {},
   "outputs": [
    {
     "name": "stdout",
     "output_type": "stream",
     "text": [
      "+--------------------+-------------------+-------------------+------------+------------+-------+----------------------+----------+-----------+-------------------+\n",
      "|dispatching_base_num|    pickup_datetime|   dropoff_datetime|PULocationID|DOLocationID|SR_Flag|Affiliated_base_number|pickup_sec|dropoff_sec|          diff_hour|\n",
      "+--------------------+-------------------+-------------------+------------+------------+-------+----------------------+----------+-----------+-------------------+\n",
      "|              B02682|2021-06-03 21:14:32|2021-06-03 21:25:50|         231|         114|      N|                B02682|1622720672| 1622721350|0.18833333333333332|\n",
      "|              B02880|2021-06-23 17:40:44|2021-06-23 18:04:19|          41|         163|      N|                B02880|1624435844| 1624437259|0.39305555555555555|\n",
      "|              B02510|2021-06-06 02:07:03|2021-06-06 02:24:30|          75|         250|      N|                  null|1622911023| 1622912070|0.29083333333333333|\n",
      "|              B02865|2021-06-06 04:48:19|2021-06-06 05:15:14|         158|          22|      N|                B02865|1622920699| 1622922314| 0.4486111111111111|\n",
      "|              B02872|2021-06-16 15:31:51|2021-06-16 16:18:09|          90|          56|      N|                B02872|1623823311| 1623826089| 0.7716666666666666|\n",
      "|              B02883|2021-06-21 20:39:20|2021-06-21 20:50:45|          34|          45|      N|                B02883|1624273760| 1624274445|0.19027777777777777|\n",
      "|              B02510|2021-06-17 08:22:30|2021-06-17 09:18:31|          48|         169|      N|                  null|1623883950| 1623887311| 0.9336111111111111|\n",
      "|              B02510|2021-06-23 22:02:56|2021-06-23 22:26:34|           4|         256|      N|                  null|1624451576| 1624452994| 0.3938888888888889|\n",
      "|              B02866|2021-06-19 22:18:25|2021-06-19 22:31:06|         246|          79|      N|                B02866|1624106905| 1624107666|0.21138888888888888|\n",
      "|              B02866|2021-06-30 11:19:51|2021-06-30 12:25:05|         113|         265|      N|                B02866|1625017791| 1625021705| 1.0872222222222223|\n",
      "|              B02510|2021-06-22 12:15:13|2021-06-22 12:26:24|         205|         130|      N|                  null|1624329913| 1624330584|0.18638888888888888|\n",
      "|              B02878|2021-06-28 09:22:50|2021-06-28 09:33:56|         169|         247|      N|                B02878|1624837970| 1624838636|              0.185|\n",
      "|              B02617|2021-06-11 13:36:20|2021-06-11 14:02:03|         262|         144|      N|                B02617|1623384380| 1623385923| 0.4286111111111111|\n",
      "|              B02510|2021-06-01 23:23:57|2021-06-02 00:00:09|         117|          56|      N|                  null|1622555637| 1622557809| 0.6033333333333334|\n",
      "|              B02883|2021-06-04 18:29:42|2021-06-04 19:09:11|         138|          48|      N|                B02883|1622797182| 1622799551| 0.6580555555555555|\n",
      "|              B02865|2021-06-09 08:05:27|2021-06-09 08:27:02|         246|         231|      N|                B02865|1623191727| 1623193022| 0.3597222222222222|\n",
      "|              B02510|2021-06-15 12:02:23|2021-06-15 12:12:33|          24|         116|      N|                  null|1623724343| 1623724953|0.16944444444444445|\n",
      "|              B02682|2021-06-05 01:00:43|2021-06-05 01:19:45|         145|          50|      N|                B02682|1622820643| 1622821785|0.31722222222222224|\n",
      "|              B02878|2021-06-28 17:09:54|2021-06-28 17:44:17|         242|         200|      N|                B02878|1624865994| 1624868057| 0.5730555555555555|\n",
      "|              B02866|2021-06-20 17:57:44|2021-06-20 18:12:43|         225|          97|      N|                B02866|1624177664| 1624178563|0.24972222222222223|\n",
      "+--------------------+-------------------+-------------------+------------+------------+-------+----------------------+----------+-----------+-------------------+\n",
      "only showing top 20 rows\n",
      "\n"
     ]
    }
   ],
   "source": [
    "df_fhvhv.show()"
   ]
  },
  {
   "cell_type": "code",
   "execution_count": 11,
   "id": "12728623-15c3-41ff-9726-2c402ffa1393",
   "metadata": {},
   "outputs": [
    {
     "name": "stderr",
     "output_type": "stream",
     "text": [
      "D:\\ProgramFiles\\Spark\\spark-3.2.3-bin-hadoop3.2\\python\\pyspark\\sql\\dataframe.py:138: FutureWarning: Deprecated in 2.0, use createOrReplaceTempView instead.\n",
      "  warnings.warn(\n"
     ]
    }
   ],
   "source": [
    "df_fhvhv.registerTempTable('fhvhv_table')"
   ]
  },
  {
   "cell_type": "code",
   "execution_count": 12,
   "id": "f4f2cbf3-f785-4451-aaa2-8c6aa2fec5cd",
   "metadata": {},
   "outputs": [
    {
     "name": "stdout",
     "output_type": "stream",
     "text": [
      "+------------------+\n",
      "|         diff_hour|\n",
      "+------------------+\n",
      "|  66.8788888888889|\n",
      "|25.549722222222222|\n",
      "|19.980833333333333|\n",
      "|18.197222222222223|\n",
      "|16.466944444444444|\n",
      "|14.268888888888888|\n",
      "|13.909722222222221|\n",
      "|             11.67|\n",
      "|11.365833333333333|\n",
      "|10.984444444444444|\n",
      "|           10.2675|\n",
      "| 9.966388888888888|\n",
      "| 9.966388888888888|\n",
      "| 9.637777777777778|\n",
      "| 9.624444444444444|\n",
      "| 9.480277777777777|\n",
      "| 9.471666666666666|\n",
      "| 9.402222222222223|\n",
      "| 9.393611111111111|\n",
      "| 9.376944444444444|\n",
      "+------------------+\n",
      "only showing top 20 rows\n",
      "\n"
     ]
    }
   ],
   "source": [
    "spark.sql(\n",
    "\"\"\"\n",
    "SELECT \n",
    "    diff_hour\n",
    "FROM\n",
    "    fhvhv_table\n",
    "ORDER BY\n",
    "    diff_hour DESC;\n",
    "\"\"\"\n",
    ").show()"
   ]
  },
  {
   "cell_type": "code",
   "execution_count": null,
   "id": "52f651ec-a058-4913-ab57-3a33a3b21420",
   "metadata": {},
   "outputs": [],
   "source": []
  }
 ],
 "metadata": {
  "kernelspec": {
   "display_name": "Python 3 (ipykernel)",
   "language": "python",
   "name": "python3"
  },
  "language_info": {
   "codemirror_mode": {
    "name": "ipython",
    "version": 3
   },
   "file_extension": ".py",
   "mimetype": "text/x-python",
   "name": "python",
   "nbconvert_exporter": "python",
   "pygments_lexer": "ipython3",
   "version": "3.10.9"
  }
 },
 "nbformat": 4,
 "nbformat_minor": 5
}
