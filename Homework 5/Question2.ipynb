{
 "cells": [
  {
   "cell_type": "code",
   "execution_count": 1,
   "id": "e14e3357-373a-4a2b-840d-8930286e561e",
   "metadata": {},
   "outputs": [
    {
     "data": {
      "text/plain": [
       "'D:\\\\ProgramFiles\\\\Spark\\\\spark-3.2.3-bin-hadoop3.2'"
      ]
     },
     "execution_count": 1,
     "metadata": {},
     "output_type": "execute_result"
    }
   ],
   "source": [
    "import findspark\n",
    "\n",
    "findspark.init(spark_home=r'D:\\ProgramFiles\\Spark\\spark-3.2.3-bin-hadoop3.2')\n",
    "findspark.find()"
   ]
  },
  {
   "cell_type": "code",
   "execution_count": 2,
   "id": "a524ea9c-1de5-4aa1-ba43-ab12818a7cfe",
   "metadata": {},
   "outputs": [
    {
     "data": {
      "text/plain": [
       "'D:\\\\ProgramFiles\\\\Spark\\\\spark-3.2.3-bin-hadoop3.2\\\\python\\\\pyspark\\\\__init__.py'"
      ]
     },
     "execution_count": 2,
     "metadata": {},
     "output_type": "execute_result"
    }
   ],
   "source": [
    "import pyspark\n",
    "pyspark.__file__"
   ]
  },
  {
   "cell_type": "code",
   "execution_count": 3,
   "id": "8997420e-d8eb-4074-8183-b1b68473d8fc",
   "metadata": {},
   "outputs": [],
   "source": [
    "from pyspark.sql import SparkSession\n",
    "\n",
    "spark = SparkSession.builder \\\n",
    "    .master(\"local[*]\") \\\n",
    "    .appName('test') \\\n",
    "    .getOrCreate()"
   ]
  },
  {
   "cell_type": "code",
   "execution_count": 4,
   "id": "aaf3d880-0e41-41b5-b8e4-1b405821d664",
   "metadata": {},
   "outputs": [],
   "source": [
    "df_fhvhv = spark.read.option('header','true').csv('fhvhv_tripdata_2021-06.csv.gz')"
   ]
  },
  {
   "cell_type": "code",
   "execution_count": 5,
   "id": "67b7247e-16bd-4421-8679-257088c15e49",
   "metadata": {},
   "outputs": [
    {
     "name": "stdout",
     "output_type": "stream",
     "text": [
      "+--------------------+-------------------+-------------------+------------+------------+-------+----------------------+\n",
      "|dispatching_base_num|    pickup_datetime|   dropoff_datetime|PULocationID|DOLocationID|SR_Flag|Affiliated_base_number|\n",
      "+--------------------+-------------------+-------------------+------------+------------+-------+----------------------+\n",
      "|              B02764|2021-06-01 00:02:41|2021-06-01 00:07:46|         174|          18|      N|                B02764|\n",
      "|              B02764|2021-06-01 00:16:16|2021-06-01 00:21:14|          32|         254|      N|                B02764|\n",
      "|              B02764|2021-06-01 00:27:01|2021-06-01 00:42:11|         240|         127|      N|                B02764|\n",
      "|              B02764|2021-06-01 00:46:08|2021-06-01 00:53:45|         127|         235|      N|                B02764|\n",
      "|              B02510|2021-06-01 00:45:42|2021-06-01 01:03:33|         144|         146|      N|                  null|\n",
      "|              B02510|2021-06-01 00:18:15|2021-06-01 00:25:47|          49|          17|      N|                  null|\n",
      "|              B02510|2021-06-01 00:33:06|2021-06-01 00:42:46|          49|         225|      N|                  null|\n",
      "|              B02510|2021-06-01 00:46:27|2021-06-01 00:56:50|         225|         177|      N|                  null|\n",
      "|              B02764|2021-06-01 00:48:06|2021-06-01 01:04:10|         209|          45|      N|                B02764|\n",
      "|              B02875|2021-06-01 00:18:54|2021-06-01 00:26:14|          80|         256|      N|                B02875|\n",
      "|              B02875|2021-06-01 00:31:02|2021-06-01 00:36:39|         217|          17|      N|                B02875|\n",
      "|              B02875|2021-06-01 00:41:53|2021-06-01 01:07:32|          17|         265|      N|                B02875|\n",
      "|              B02875|2021-06-01 00:29:52|2021-06-01 00:54:41|         210|          76|      N|                B02875|\n",
      "|              B02510|2021-06-01 00:15:57|2021-06-01 00:39:36|         226|         213|      N|                  null|\n",
      "|              B02510|2021-06-01 00:11:59|2021-06-01 00:23:32|         191|           9|      N|                  null|\n",
      "|              B02510|2021-06-01 00:30:35|2021-06-01 00:45:35|          16|         250|      N|                  null|\n",
      "|              B02510|2021-06-01 00:49:01|2021-06-01 01:03:50|         182|         259|      N|                  null|\n",
      "|              B02510|2021-06-01 00:07:36|2021-06-01 00:21:13|         188|          72|      N|                  null|\n",
      "|              B02510|2021-06-01 00:25:48|2021-06-01 00:40:43|          39|          72|      N|                  null|\n",
      "|              B02510|2021-06-01 00:46:11|2021-06-01 00:53:39|          72|          35|      N|                  null|\n",
      "+--------------------+-------------------+-------------------+------------+------------+-------+----------------------+\n",
      "only showing top 20 rows\n",
      "\n"
     ]
    }
   ],
   "source": [
    "df_fhvhv.show()"
   ]
  },
  {
   "cell_type": "code",
   "execution_count": 6,
   "id": "32dcbab6-0c92-4216-bf04-527fd797e7b9",
   "metadata": {},
   "outputs": [],
   "source": [
    "df_fhvhv_repar = df_fhvhv.repartition(12)"
   ]
  },
  {
   "cell_type": "code",
   "execution_count": 7,
   "id": "dec49f05-3ff4-4f54-ad50-31d32a7f1bab",
   "metadata": {},
   "outputs": [
    {
     "name": "stdout",
     "output_type": "stream",
     "text": [
      "+--------------------+-------------------+-------------------+------------+------------+-------+----------------------+\n",
      "|dispatching_base_num|    pickup_datetime|   dropoff_datetime|PULocationID|DOLocationID|SR_Flag|Affiliated_base_number|\n",
      "+--------------------+-------------------+-------------------+------------+------------+-------+----------------------+\n",
      "|              B02682|2021-06-03 21:14:32|2021-06-03 21:25:50|         231|         114|      N|                B02682|\n",
      "|              B02880|2021-06-23 17:40:44|2021-06-23 18:04:19|          41|         163|      N|                B02880|\n",
      "|              B02510|2021-06-06 02:07:03|2021-06-06 02:24:30|          75|         250|      N|                  null|\n",
      "|              B02865|2021-06-06 04:48:19|2021-06-06 05:15:14|         158|          22|      N|                B02865|\n",
      "|              B02872|2021-06-16 15:31:51|2021-06-16 16:18:09|          90|          56|      N|                B02872|\n",
      "|              B02883|2021-06-21 20:39:20|2021-06-21 20:50:45|          34|          45|      N|                B02883|\n",
      "|              B02510|2021-06-17 08:22:30|2021-06-17 09:18:31|          48|         169|      N|                  null|\n",
      "|              B02510|2021-06-23 22:02:56|2021-06-23 22:26:34|           4|         256|      N|                  null|\n",
      "|              B02866|2021-06-19 22:18:25|2021-06-19 22:31:06|         246|          79|      N|                B02866|\n",
      "|              B02866|2021-06-30 11:19:51|2021-06-30 12:25:05|         113|         265|      N|                B02866|\n",
      "|              B02510|2021-06-22 12:15:13|2021-06-22 12:26:24|         205|         130|      N|                  null|\n",
      "|              B02878|2021-06-28 09:22:50|2021-06-28 09:33:56|         169|         247|      N|                B02878|\n",
      "|              B02617|2021-06-11 13:36:20|2021-06-11 14:02:03|         262|         144|      N|                B02617|\n",
      "|              B02510|2021-06-01 23:23:57|2021-06-02 00:00:09|         117|          56|      N|                  null|\n",
      "|              B02883|2021-06-04 18:29:42|2021-06-04 19:09:11|         138|          48|      N|                B02883|\n",
      "|              B02865|2021-06-09 08:05:27|2021-06-09 08:27:02|         246|         231|      N|                B02865|\n",
      "|              B02510|2021-06-15 12:02:23|2021-06-15 12:12:33|          24|         116|      N|                  null|\n",
      "|              B02682|2021-06-05 01:00:43|2021-06-05 01:19:45|         145|          50|      N|                B02682|\n",
      "|              B02878|2021-06-28 17:09:54|2021-06-28 17:44:17|         242|         200|      N|                B02878|\n",
      "|              B02866|2021-06-20 17:57:44|2021-06-20 18:12:43|         225|          97|      N|                B02866|\n",
      "+--------------------+-------------------+-------------------+------------+------------+-------+----------------------+\n",
      "only showing top 20 rows\n",
      "\n"
     ]
    }
   ],
   "source": [
    "df_fhvhv_repar.show()"
   ]
  },
  {
   "cell_type": "code",
   "execution_count": 8,
   "id": "78bd1800-0050-4c98-8432-7c70a8b3c8e9",
   "metadata": {},
   "outputs": [],
   "source": [
    "df_fhvhv_repar.write.mode('overwrite').parquet('fhvhv_tripdata_2021-06.parquet')"
   ]
  },
  {
   "cell_type": "code",
   "execution_count": null,
   "id": "5324c790-b2cb-4ab9-8f1e-9cafd4f1fec3",
   "metadata": {},
   "outputs": [],
   "source": []
  }
 ],
 "metadata": {
  "kernelspec": {
   "display_name": "Python 3 (ipykernel)",
   "language": "python",
   "name": "python3"
  },
  "language_info": {
   "codemirror_mode": {
    "name": "ipython",
    "version": 3
   },
   "file_extension": ".py",
   "mimetype": "text/x-python",
   "name": "python",
   "nbconvert_exporter": "python",
   "pygments_lexer": "ipython3",
   "version": "3.10.9"
  }
 },
 "nbformat": 4,
 "nbformat_minor": 5
}
